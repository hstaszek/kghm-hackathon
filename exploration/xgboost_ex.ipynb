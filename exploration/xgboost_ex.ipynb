{
 "cells": [
  {
   "cell_type": "code",
   "execution_count": 110,
   "metadata": {},
   "outputs": [
    {
     "name": "stdout",
     "output_type": "stream",
     "text": [
      "<class 'pandas.core.frame.DataFrame'>\n",
      "RangeIndex: 8283 entries, 0 to 8282\n",
      "Columns: 120 entries, idx to LMAM_PM211A_---------_TNI\n",
      "dtypes: float64(118), int64(2)\n",
      "memory usage: 7.6 MB\n"
     ]
    }
   ],
   "source": [
    "import xgboost\n",
    "from xgboost import XGBRegressor\n",
    "import pandas as pd\n",
    "import numpy as np\n",
    "import matplotlib.pyplot as plt\n",
    "from sklearn.model_selection import RepeatedKFold, cross_val_score\n",
    "from utils.utils import remove_blacklisted\n",
    "\n",
    "prefix = 'tr_20230127213409_HC212B_'\n",
    "y_name = 'LMAM_HC212B_PLKL90---_TPG'\n",
    "\n",
    "df = pd.read_csv(f'dumbdata/{prefix}{y_name}.csv').drop(columns='Czas')\n",
    "columns_without_zeros = df.columns.to_numpy()[df.std() != 0]\n",
    "df = df[columns_without_zeros]\n",
    "df.info()"
   ]
  },
  {
   "cell_type": "code",
   "execution_count": 94,
   "metadata": {},
   "outputs": [],
   "source": []
  },
  {
   "cell_type": "code",
   "execution_count": 96,
   "metadata": {},
   "outputs": [
    {
     "data": {
      "text/plain": [
       "(8283, 89)"
      ]
     },
     "execution_count": 96,
     "metadata": {},
     "output_type": "execute_result"
    }
   ],
   "source": [
    "df.shape"
   ]
  },
  {
   "cell_type": "code",
   "execution_count": 97,
   "metadata": {},
   "outputs": [
    {
     "data": {
      "text/plain": [
       "(8283, 88)"
      ]
     },
     "execution_count": 97,
     "metadata": {},
     "output_type": "execute_result"
    }
   ],
   "source": [
    "X = df.drop(columns=y_name).to_numpy()\n",
    "y = df[y_name].to_numpy()\n",
    "X.shape"
   ]
  },
  {
   "cell_type": "code",
   "execution_count": 98,
   "metadata": {},
   "outputs": [],
   "source": [
    "model = XGBRegressor(\n",
    "    # n_estimators=1000, \n",
    "    # max_depth=7, \n",
    "    # eta=0.1, \n",
    "    # subsample=0.7, \n",
    "    # colsample_bytree=0.8\n",
    "    )"
   ]
  },
  {
   "cell_type": "code",
   "execution_count": 107,
   "metadata": {},
   "outputs": [],
   "source": [
    "cv = RepeatedKFold(n_splits=10, n_repeats=2, random_state=44)\n",
    "\n",
    "scores = cross_val_score(model,X, y, scoring='neg_mean_absolute_error', cv=cv, n_jobs=4)"
   ]
  },
  {
   "cell_type": "code",
   "execution_count": null,
   "metadata": {},
   "outputs": [],
   "source": [
    "dumb_score"
   ]
  },
  {
   "cell_type": "code",
   "execution_count": 105,
   "metadata": {},
   "outputs": [
    {
     "name": "stdout",
     "output_type": "stream",
     "text": [
      "Scores\n",
      "Mean MAE: 0.96 +- 0.03\n",
      "--------------------\n",
      "Stats for Y\n",
      "Min 0.00\n",
      "Max 12.75\n",
      "Mean 4.46\n",
      "Std 2.67\n"
     ]
    }
   ],
   "source": [
    "# force scores to be positive\n",
    "scores = np.absolute(scores)\n",
    "print('Scores')\n",
    "print(f'Mean MAE: {scores.mean():.2f} +- {scores.std():.2f}')\n",
    "print('-'*20)\n",
    "print('Stats for Y')\n",
    "print(f'Min {y.min():.2f}')\n",
    "print(f'Max {y.max():.2f}')\n",
    "print(f'Mean {y.mean():.2f}')\n",
    "print(f'Std {y.std():.2f}')"
   ]
  },
  {
   "cell_type": "code",
   "execution_count": null,
   "metadata": {},
   "outputs": [],
   "source": []
  },
  {
   "cell_type": "code",
   "execution_count": null,
   "metadata": {},
   "outputs": [],
   "source": []
  },
  {
   "cell_type": "code",
   "execution_count": null,
   "metadata": {},
   "outputs": [],
   "source": []
  },
  {
   "cell_type": "code",
   "execution_count": null,
   "metadata": {},
   "outputs": [],
   "source": []
  }
 ],
 "metadata": {
  "kernelspec": {
   "display_name": "cuvalley",
   "language": "python",
   "name": "python3"
  },
  "language_info": {
   "codemirror_mode": {
    "name": "ipython",
    "version": 3
   },
   "file_extension": ".py",
   "mimetype": "text/x-python",
   "name": "python",
   "nbconvert_exporter": "python",
   "pygments_lexer": "ipython3",
   "version": "3.9.16 (main, Jan 11 2023, 16:16:36) [MSC v.1916 64 bit (AMD64)]"
  },
  "orig_nbformat": 4,
  "vscode": {
   "interpreter": {
    "hash": "46573f2c7bc5d23de23e51c4b457ef7267b0b9d4f720a3d5cd1bef17f2ec1e17"
   }
  }
 },
 "nbformat": 4,
 "nbformat_minor": 2
}
